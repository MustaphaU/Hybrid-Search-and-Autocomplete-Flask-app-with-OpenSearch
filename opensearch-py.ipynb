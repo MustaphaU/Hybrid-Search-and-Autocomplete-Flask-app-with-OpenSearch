{
 "cells": [
  {
   "cell_type": "code",
   "execution_count": null,
   "id": "ef10c436",
   "metadata": {},
   "outputs": [],
   "source": []
  }
 ],
 "metadata": {
  "kernelspec": {
   "display_name": "opensearch_env",
   "language": "python",
   "name": "python3"
  },
  "language_info": {
   "name": "python",
   "version": "3.12.11"
  }
 },
 "nbformat": 4,
 "nbformat_minor": 5
}
