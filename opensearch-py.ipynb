{
 "cells": [
  {
   "cell_type": "markdown",
   "id": "e6cd7886",
   "metadata": {},
   "source": [
    "### import libraries"
   ]
  },
  {
   "cell_type": "code",
   "execution_count": 2,
   "id": "ef10c436",
   "metadata": {},
   "outputs": [],
   "source": [
    "from opensearchpy import OpenSearch\n",
    "from dotenv import load_dotenv"
   ]
  },
  {
   "cell_type": "code",
   "execution_count": 3,
   "id": "ea539ddc",
   "metadata": {},
   "outputs": [],
   "source": [
    "#load the enviornment variables from .env\n",
    "load_dotenv()\n",
    "from os import getenv\n",
    "\n",
    "USERNAME = getenv(\"OPENSEARCH_ADMIN_USER\")\n",
    "PASSWORD = getenv(\"OPENSEARCH_INITIAL_ADMIN_PASSWORD\")"
   ]
  },
  {
   "cell_type": "markdown",
   "id": "3864f5ae",
   "metadata": {},
   "source": [
    "### connect to host"
   ]
  },
  {
   "cell_type": "code",
   "execution_count": 12,
   "id": "aa92a5ca",
   "metadata": {},
   "outputs": [
    {
     "data": {
      "text/plain": [
       "{'name': 'opensearch-node1',\n",
       " 'cluster_name': 'opensearch-cluster',\n",
       " 'cluster_uuid': 'GAWfTRd5RW-CucmhKN6hVA',\n",
       " 'version': {'distribution': 'opensearch',\n",
       "  'number': '3.0.0',\n",
       "  'build_type': 'tar',\n",
       "  'build_hash': 'dc4efa821904cc2d7ea7ef61c0f577d3fc0d8be9',\n",
       "  'build_date': '2025-05-03T06:25:26.379676844Z',\n",
       "  'build_snapshot': False,\n",
       "  'lucene_version': '10.1.0',\n",
       "  'minimum_wire_compatibility_version': '2.19.0',\n",
       "  'minimum_index_compatibility_version': '2.0.0'},\n",
       " 'tagline': 'The OpenSearch Project: https://opensearch.org/'}"
      ]
     },
     "execution_count": 12,
     "metadata": {},
     "output_type": "execute_result"
    }
   ],
   "source": [
    "host = 'localhost'\n",
    "port = 19200\n",
    "auth = (USERNAME, PASSWORD) # For testing only. Don't store credentials in code.\n",
    "# ca_certs_path = '/full/path/to/root-ca.pem' # Provide a CA bundle if you use intermediate CAs with your root CA.\n",
    "\n",
    "# Create the client with SSL/TLS enabled, but hostname verification disabled.\n",
    "client = OpenSearch(\n",
    "    hosts = [{'host': host, 'port': port}],\n",
    "    http_compress = True, # enables gzip compression for request bodies\n",
    "    http_auth = auth,\n",
    "    use_ssl = True,\n",
    "    verify_certs = False,\n",
    "    ssl_assert_hostname = False,\n",
    "    ssl_show_warn = False,\n",
    ")\n",
    "client.info()"
   ]
  },
  {
   "cell_type": "markdown",
   "id": "1bf4cc9f",
   "metadata": {},
   "source": [
    "### check my index"
   ]
  },
  {
   "cell_type": "code",
   "execution_count": 16,
   "id": "a8973318",
   "metadata": {},
   "outputs": [
    {
     "data": {
      "text/plain": [
       "{'took': 2,\n",
       " 'timed_out': False,\n",
       " '_shards': {'total': 1, 'successful': 1, 'skipped': 0, 'failed': 0},\n",
       " 'hits': {'total': {'value': 3, 'relation': 'eq'},\n",
       "  'max_score': 1.0,\n",
       "  'hits': [{'_index': 'document_v4',\n",
       "    '_id': '1234',\n",
       "    '_score': 1.0,\n",
       "    '_source': {'content': 'There once was a racecar driver that was super fast'}},\n",
       "   {'_index': 'document_v4',\n",
       "    '_id': '1235',\n",
       "    '_score': 1.0,\n",
       "    '_source': {'content': 'The golf driver used by tiger woods is the TaylorMade Qi10 LS prototype'}},\n",
       "   {'_index': 'document_v4',\n",
       "    '_id': '1236',\n",
       "    '_score': 1.0,\n",
       "    '_source': {'content': 'Some may say that supercar drivers dont really mind risk'}}]}}"
      ]
     },
     "execution_count": 16,
     "metadata": {},
     "output_type": "execute_result"
    }
   ],
   "source": [
    "response = client.search(\n",
    "    index=\"document_v4\",\n",
    "    body={\n",
    "        \"_source\": [\"content\"],\n",
    "        \"query\": {\n",
    "            \"match_all\": {}\n",
    "        }\n",
    "    }\n",
    ")\n",
    "\n",
    "response"
   ]
  },
  {
   "cell_type": "code",
   "execution_count": null,
   "id": "2d6ad9da",
   "metadata": {},
   "outputs": [],
   "source": []
  }
 ],
 "metadata": {
  "kernelspec": {
   "display_name": "opensearch_env",
   "language": "python",
   "name": "python3"
  },
  "language_info": {
   "codemirror_mode": {
    "name": "ipython",
    "version": 3
   },
   "file_extension": ".py",
   "mimetype": "text/x-python",
   "name": "python",
   "nbconvert_exporter": "python",
   "pygments_lexer": "ipython3",
   "version": "3.12.11"
  }
 },
 "nbformat": 4,
 "nbformat_minor": 5
}
