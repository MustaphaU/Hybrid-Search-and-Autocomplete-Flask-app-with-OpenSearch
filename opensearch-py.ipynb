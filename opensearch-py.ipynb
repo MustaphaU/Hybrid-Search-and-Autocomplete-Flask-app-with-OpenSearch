{
 "cells": [
  {
   "cell_type": "markdown",
   "id": "e6cd7886",
   "metadata": {},
   "source": [
    "### import libraries"
   ]
  },
  {
   "cell_type": "code",
   "execution_count": null,
   "id": "ef10c436",
   "metadata": {},
   "outputs": [],
   "source": [
    "from opensearchpy import OpenSearch\n",
    "from dotenv import load_dotenv\n",
    "from pprint import pprint"
   ]
  },
  {
   "cell_type": "code",
   "execution_count": 3,
   "id": "ea539ddc",
   "metadata": {},
   "outputs": [],
   "source": [
    "#load the enviornment variables from .env\n",
    "load_dotenv()\n",
    "from os import getenv\n",
    "\n",
    "USERNAME = getenv(\"OPENSEARCH_ADMIN_USER\")\n",
    "PASSWORD = getenv(\"OPENSEARCH_INITIAL_ADMIN_PASSWORD\")"
   ]
  },
  {
   "cell_type": "markdown",
   "id": "3864f5ae",
   "metadata": {},
   "source": [
    "### connect to host"
   ]
  },
  {
   "cell_type": "code",
   "execution_count": 12,
   "id": "aa92a5ca",
   "metadata": {},
   "outputs": [
    {
     "data": {
      "text/plain": [
       "{'name': 'opensearch-node1',\n",
       " 'cluster_name': 'opensearch-cluster',\n",
       " 'cluster_uuid': 'GAWfTRd5RW-CucmhKN6hVA',\n",
       " 'version': {'distribution': 'opensearch',\n",
       "  'number': '3.0.0',\n",
       "  'build_type': 'tar',\n",
       "  'build_hash': 'dc4efa821904cc2d7ea7ef61c0f577d3fc0d8be9',\n",
       "  'build_date': '2025-05-03T06:25:26.379676844Z',\n",
       "  'build_snapshot': False,\n",
       "  'lucene_version': '10.1.0',\n",
       "  'minimum_wire_compatibility_version': '2.19.0',\n",
       "  'minimum_index_compatibility_version': '2.0.0'},\n",
       " 'tagline': 'The OpenSearch Project: https://opensearch.org/'}"
      ]
     },
     "execution_count": 12,
     "metadata": {},
     "output_type": "execute_result"
    }
   ],
   "source": [
    "host = 'localhost'\n",
    "port = 19200\n",
    "auth = (USERNAME, PASSWORD) # For testing only. Don't store credentials in code.\n",
    "# ca_certs_path = '/full/path/to/root-ca.pem' # Provide a CA bundle if you use intermediate CAs with your root CA.\n",
    "\n",
    "# Create the client with SSL/TLS enabled, but hostname verification disabled.\n",
    "client = OpenSearch(\n",
    "    hosts = [{'host': host, 'port': port}],\n",
    "    http_compress = True, # enables gzip compression for request bodies\n",
    "    http_auth = auth,\n",
    "    use_ssl = True,\n",
    "    verify_certs = False,\n",
    "    ssl_assert_hostname = False,\n",
    "    ssl_show_warn = False,\n",
    ")\n",
    "client.info()"
   ]
  },
  {
   "cell_type": "markdown",
   "id": "1bf4cc9f",
   "metadata": {},
   "source": [
    "### check my index"
   ]
  },
  {
   "cell_type": "code",
   "execution_count": 16,
   "id": "a8973318",
   "metadata": {},
   "outputs": [
    {
     "data": {
      "text/plain": [
       "{'took': 2,\n",
       " 'timed_out': False,\n",
       " '_shards': {'total': 1, 'successful': 1, 'skipped': 0, 'failed': 0},\n",
       " 'hits': {'total': {'value': 3, 'relation': 'eq'},\n",
       "  'max_score': 1.0,\n",
       "  'hits': [{'_index': 'document_v4',\n",
       "    '_id': '1234',\n",
       "    '_score': 1.0,\n",
       "    '_source': {'content': 'There once was a racecar driver that was super fast'}},\n",
       "   {'_index': 'document_v4',\n",
       "    '_id': '1235',\n",
       "    '_score': 1.0,\n",
       "    '_source': {'content': 'The golf driver used by tiger woods is the TaylorMade Qi10 LS prototype'}},\n",
       "   {'_index': 'document_v4',\n",
       "    '_id': '1236',\n",
       "    '_score': 1.0,\n",
       "    '_source': {'content': 'Some may say that supercar drivers dont really mind risk'}}]}}"
      ]
     },
     "execution_count": 16,
     "metadata": {},
     "output_type": "execute_result"
    }
   ],
   "source": [
    "response = client.search(\n",
    "    index=\"document_v4\",\n",
    "    body={\n",
    "        \"_source\": [\"content\"],\n",
    "        \"query\": {\n",
    "            \"match_all\": {}\n",
    "        }\n",
    "    }\n",
    ")\n",
    "\n",
    "response"
   ]
  },
  {
   "cell_type": "code",
   "execution_count": 21,
   "id": "2d6ad9da",
   "metadata": {},
   "outputs": [
    {
     "name": "stdout",
     "output_type": "stream",
     "text": [
      "{'acknowledged': True}\n",
      "{'acknowledged': True, 'index': 'test-document-01', 'shards_acknowledged': True}\n"
     ]
    }
   ],
   "source": [
    "#delete index\n",
    "response = client.indices.delete(\"test-document-01\", ignore_unavailable=True)\n",
    "pprint(response)\n",
    "# create index\n",
    "response = client.indices.create(\"test-document-01\")\n",
    "pprint(response)"
   ]
  },
  {
   "cell_type": "code",
   "execution_count": null,
   "id": "5b32b1e9",
   "metadata": {},
   "outputs": [
    {
     "name": "stdout",
     "output_type": "stream",
     "text": [
      "\u001b[31mSignature:\u001b[39m\n",
      "client.bulk(\n",
      "    body: Any,\n",
      "    index: Any = \u001b[38;5;28;01mNone\u001b[39;00m,\n",
      "    params: Any = \u001b[38;5;28;01mNone\u001b[39;00m,\n",
      "    headers: Any = \u001b[38;5;28;01mNone\u001b[39;00m,\n",
      ") -> Any\n",
      "\u001b[31mSource:\u001b[39m   \n",
      "    @query_params(\n",
      "        \u001b[33m\"_source\"\u001b[39m,\n",
      "        \u001b[33m\"_source_excludes\"\u001b[39m,\n",
      "        \u001b[33m\"_source_includes\"\u001b[39m,\n",
      "        \u001b[33m\"error_trace\"\u001b[39m,\n",
      "        \u001b[33m\"filter_path\"\u001b[39m,\n",
      "        \u001b[33m\"human\"\u001b[39m,\n",
      "        \u001b[33m\"pipeline\"\u001b[39m,\n",
      "        \u001b[33m\"pretty\"\u001b[39m,\n",
      "        \u001b[33m\"refresh\"\u001b[39m,\n",
      "        \u001b[33m\"require_alias\"\u001b[39m,\n",
      "        \u001b[33m\"routing\"\u001b[39m,\n",
      "        \u001b[33m\"source\"\u001b[39m,\n",
      "        \u001b[33m\"timeout\"\u001b[39m,\n",
      "        \u001b[33m\"wait_for_active_shards\"\u001b[39m,\n",
      "    )\n",
      "    \u001b[38;5;28;01mdef\u001b[39;00m bulk(\n",
      "        self,\n",
      "        body: Any,\n",
      "        index: Any = \u001b[38;5;28;01mNone\u001b[39;00m,\n",
      "        params: Any = \u001b[38;5;28;01mNone\u001b[39;00m,\n",
      "        headers: Any = \u001b[38;5;28;01mNone\u001b[39;00m,\n",
      "    ) -> Any:\n",
      "        \u001b[33m\"\"\"\u001b[39m\n",
      "\u001b[33m        Allows to perform multiple index/update/delete operations in a single request.\u001b[39m\n",
      "\n",
      "\n",
      "\u001b[33m        :arg body: The operation definition and data (action-data\u001b[39m\n",
      "\u001b[33m            pairs), separated by newlines\u001b[39m\n",
      "\u001b[33m        :arg index: Name of the data stream, index, or index alias to\u001b[39m\n",
      "\u001b[33m            perform bulk actions on.\u001b[39m\n",
      "\u001b[33m        :arg _source: `true` or `false` to return the `_source` field or\u001b[39m\n",
      "\u001b[33m            not, or a list of fields to return.\u001b[39m\n",
      "\u001b[33m        :arg _source_excludes: A comma-separated list of source fields\u001b[39m\n",
      "\u001b[33m            to exclude from the response.\u001b[39m\n",
      "\u001b[33m        :arg _source_includes: A comma-separated list of source fields\u001b[39m\n",
      "\u001b[33m            to include in the response.\u001b[39m\n",
      "\u001b[33m        :arg error_trace: Whether to include the stack trace of returned\u001b[39m\n",
      "\u001b[33m            errors. Default is false.\u001b[39m\n",
      "\u001b[33m        :arg filter_path: Used to reduce the response. This parameter\u001b[39m\n",
      "\u001b[33m            takes a comma-separated list of filters. It supports using wildcards to\u001b[39m\n",
      "\u001b[33m            match any field or part of a field’s name. You can also exclude fields\u001b[39m\n",
      "\u001b[33m            with \"-\".\u001b[39m\n",
      "\u001b[33m        :arg human: Whether to return human readable values for\u001b[39m\n",
      "\u001b[33m            statistics. Default is True.\u001b[39m\n",
      "\u001b[33m        :arg pipeline: ID of the pipeline to use to preprocess incoming\u001b[39m\n",
      "\u001b[33m            documents. If the index has a default ingest pipeline specified, then\u001b[39m\n",
      "\u001b[33m            setting the value to `_none` disables the default ingest pipeline for\u001b[39m\n",
      "\u001b[33m            this request. If a final pipeline is configured it will always run,\u001b[39m\n",
      "\u001b[33m            regardless of the value of this parameter.\u001b[39m\n",
      "\u001b[33m        :arg pretty: Whether to pretty format the returned JSON\u001b[39m\n",
      "\u001b[33m            response. Default is false.\u001b[39m\n",
      "\u001b[33m        :arg refresh: If `true`, OpenSearch refreshes the affected\u001b[39m\n",
      "\u001b[33m            shards to make this operation visible to search, if `wait_for` then wait\u001b[39m\n",
      "\u001b[33m            for a refresh to make this operation visible to search, if `false` do\u001b[39m\n",
      "\u001b[33m            nothing with refreshes. Valid values: `true`, `false`, `wait_for`.\u001b[39m\n",
      "\u001b[33m        :arg require_alias: If `true`, the request's actions must target\u001b[39m\n",
      "\u001b[33m            an index alias. Default is false.\u001b[39m\n",
      "\u001b[33m        :arg routing: Custom value used to route operations to a\u001b[39m\n",
      "\u001b[33m            specific shard.\u001b[39m\n",
      "\u001b[33m        :arg source: The URL-encoded request definition. Useful for\u001b[39m\n",
      "\u001b[33m            libraries that do not accept a request body for non-POST requests.\u001b[39m\n",
      "\u001b[33m        :arg timeout: Period each action waits for the following\u001b[39m\n",
      "\u001b[33m            operations: automatic index creation, dynamic mapping updates, waiting\u001b[39m\n",
      "\u001b[33m            for active shards.\u001b[39m\n",
      "\u001b[33m        :arg wait_for_active_shards: The number of shard copies that\u001b[39m\n",
      "\u001b[33m            must be active before proceeding with the operation. Set to all or any\u001b[39m\n",
      "\u001b[33m            positive integer up to the total number of shards in the index\u001b[39m\n",
      "\u001b[33m            (`number_of_replicas+1`). Valid choices are all, index-setting.\u001b[39m\n",
      "\u001b[33m        \"\"\"\u001b[39m\n",
      "        \u001b[38;5;28;01mif\u001b[39;00m body \u001b[38;5;28;01min\u001b[39;00m SKIP_IN_PATH:\n",
      "            \u001b[38;5;28;01mraise\u001b[39;00m ValueError(\u001b[33m\"Empty value passed for a required argument 'body'.\"\u001b[39m)\n",
      "\n",
      "        body = _bulk_body(self.transport.serializer, body)\n",
      "        \u001b[38;5;28;01mreturn\u001b[39;00m self.transport.perform_request(\n",
      "            \u001b[33m\"POST\"\u001b[39m,\n",
      "            _make_path(index, \u001b[33m\"_bulk\"\u001b[39m),\n",
      "            params=params,\n",
      "            headers=headers,\n",
      "            body=body,\n",
      "        )\n",
      "\u001b[31mFile:\u001b[39m      ~/anaconda3/envs/opensearch_env/lib/python3.12/site-packages/opensearchpy/client/__init__.py\n",
      "\u001b[31mType:\u001b[39m      method"
     ]
    }
   ],
   "source": []
  },
  {
   "cell_type": "code",
   "execution_count": null,
   "id": "8dae938e",
   "metadata": {},
   "outputs": [],
   "source": []
  }
 ],
 "metadata": {
  "kernelspec": {
   "display_name": "opensearch_env",
   "language": "python",
   "name": "python3"
  },
  "language_info": {
   "codemirror_mode": {
    "name": "ipython",
    "version": 3
   },
   "file_extension": ".py",
   "mimetype": "text/x-python",
   "name": "python",
   "nbconvert_exporter": "python",
   "pygments_lexer": "ipython3",
   "version": "3.12.11"
  }
 },
 "nbformat": 4,
 "nbformat_minor": 5
}
