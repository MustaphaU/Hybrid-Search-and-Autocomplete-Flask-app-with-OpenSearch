{
 "cells": [
  {
   "cell_type": "markdown",
   "id": "e6cd7886",
   "metadata": {},
   "source": [
    "### import libraries"
   ]
  },
  {
   "cell_type": "code",
   "execution_count": null,
   "id": "ef10c436",
   "metadata": {},
   "outputs": [],
   "source": [
    "from opensearchpy import OpenSearch\n",
    "from dotenv import load_dotenv\n",
    "from pprint import pprint\n",
    "import re"
   ]
  },
  {
   "cell_type": "code",
   "execution_count": 3,
   "id": "ea539ddc",
   "metadata": {},
   "outputs": [],
   "source": [
    "#load the enviornment variables from .env\n",
    "load_dotenv()\n",
    "from os import getenv\n",
    "\n",
    "USERNAME = getenv(\"OPENSEARCH_ADMIN_USER\")\n",
    "PASSWORD = getenv(\"OPENSEARCH_INITIAL_ADMIN_PASSWORD\")"
   ]
  },
  {
   "cell_type": "markdown",
   "id": "3864f5ae",
   "metadata": {},
   "source": [
    "### connect to host"
   ]
  },
  {
   "cell_type": "code",
   "execution_count": 12,
   "id": "aa92a5ca",
   "metadata": {},
   "outputs": [
    {
     "data": {
      "text/plain": [
       "{'name': 'opensearch-node1',\n",
       " 'cluster_name': 'opensearch-cluster',\n",
       " 'cluster_uuid': 'GAWfTRd5RW-CucmhKN6hVA',\n",
       " 'version': {'distribution': 'opensearch',\n",
       "  'number': '3.0.0',\n",
       "  'build_type': 'tar',\n",
       "  'build_hash': 'dc4efa821904cc2d7ea7ef61c0f577d3fc0d8be9',\n",
       "  'build_date': '2025-05-03T06:25:26.379676844Z',\n",
       "  'build_snapshot': False,\n",
       "  'lucene_version': '10.1.0',\n",
       "  'minimum_wire_compatibility_version': '2.19.0',\n",
       "  'minimum_index_compatibility_version': '2.0.0'},\n",
       " 'tagline': 'The OpenSearch Project: https://opensearch.org/'}"
      ]
     },
     "execution_count": 12,
     "metadata": {},
     "output_type": "execute_result"
    }
   ],
   "source": [
    "host = 'localhost'\n",
    "port = 19200\n",
    "auth = (USERNAME, PASSWORD) # For testing only. Don't store credentials in code.\n",
    "# ca_certs_path = '/full/path/to/root-ca.pem' # Provide a CA bundle if you use intermediate CAs with your root CA.\n",
    "\n",
    "# Create the client with SSL/TLS enabled, but hostname verification disabled.\n",
    "client = OpenSearch(\n",
    "    hosts = [{'host': host, 'port': port}],\n",
    "    http_compress = True, # enables gzip compression for request bodies\n",
    "    http_auth = auth,\n",
    "    use_ssl = True,\n",
    "    verify_certs = False,\n",
    "    ssl_assert_hostname = False,\n",
    "    ssl_show_warn = False,\n",
    ")\n",
    "client.info()"
   ]
  },
  {
   "cell_type": "markdown",
   "id": "1bf4cc9f",
   "metadata": {},
   "source": [
    "### check my index"
   ]
  },
  {
   "cell_type": "code",
   "execution_count": 16,
   "id": "a8973318",
   "metadata": {},
   "outputs": [
    {
     "data": {
      "text/plain": [
       "{'took': 2,\n",
       " 'timed_out': False,\n",
       " '_shards': {'total': 1, 'successful': 1, 'skipped': 0, 'failed': 0},\n",
       " 'hits': {'total': {'value': 3, 'relation': 'eq'},\n",
       "  'max_score': 1.0,\n",
       "  'hits': [{'_index': 'document_v4',\n",
       "    '_id': '1234',\n",
       "    '_score': 1.0,\n",
       "    '_source': {'content': 'There once was a racecar driver that was super fast'}},\n",
       "   {'_index': 'document_v4',\n",
       "    '_id': '1235',\n",
       "    '_score': 1.0,\n",
       "    '_source': {'content': 'The golf driver used by tiger woods is the TaylorMade Qi10 LS prototype'}},\n",
       "   {'_index': 'document_v4',\n",
       "    '_id': '1236',\n",
       "    '_score': 1.0,\n",
       "    '_source': {'content': 'Some may say that supercar drivers dont really mind risk'}}]}}"
      ]
     },
     "execution_count": 16,
     "metadata": {},
     "output_type": "execute_result"
    }
   ],
   "source": [
    "response = client.search(\n",
    "    index=\"document_v4\",\n",
    "    body={\n",
    "        \"_source\": [\"content\"],\n",
    "        \"query\": {\n",
    "            \"match_all\": {}\n",
    "        }\n",
    "    }\n",
    ")\n",
    "\n",
    "response"
   ]
  },
  {
   "cell_type": "code",
   "execution_count": 21,
   "id": "2d6ad9da",
   "metadata": {},
   "outputs": [
    {
     "name": "stdout",
     "output_type": "stream",
     "text": [
      "{'acknowledged': True}\n",
      "{'acknowledged': True, 'index': 'test-document-01', 'shards_acknowledged': True}\n"
     ]
    }
   ],
   "source": [
    "#delete index\n",
    "response = client.indices.delete(\"test-document-01\", ignore_unavailable=True)\n",
    "pprint(response)\n",
    "# create index\n",
    "response = client.indices.create(\"test-document-01\")\n",
    "pprint(response)"
   ]
  },
  {
   "cell_type": "markdown",
   "id": "dde55361",
   "metadata": {},
   "source": [
    "### confirm the get method works"
   ]
  },
  {
   "cell_type": "code",
   "execution_count": 23,
   "id": "5b32b1e9",
   "metadata": {},
   "outputs": [
    {
     "name": "stdout",
     "output_type": "stream",
     "text": [
      "{'_id': '1236',\n",
      " '_index': 'document_v4',\n",
      " '_primary_term': 1,\n",
      " '_seq_no': 2,\n",
      " '_source': {'content': 'Some may say that supercar drivers dont really mind '\n",
      "                        'risk',\n",
      "             'content_embedding': {'##ability': 0.0043414626,\n",
      "                                   '##away': 0.09657053,\n",
      "                                   '##bility': 0.683933,\n",
      "                                   '##car': 1.8049147,\n",
      "                                   '##carriage': 0.18450333,\n",
      "                                   '##cars': 0.7819286,\n",
      "                                   '##erving': 0.741623,\n",
      "                                   '##ever': 0.16756783,\n",
      "                                   '##free': 0.16112545,\n",
      "                                   '##hip': 0.08930432,\n",
      "                                   '##moto': 0.70712644,\n",
      "                                   '##oot': 0.37504345,\n",
      "                                   '##ruck': 0.124648124,\n",
      "                                   '##tical': 0.41809833,\n",
      "                                   '##train': 0.2152228,\n",
      "                                   '##trust': 0.15090568,\n",
      "                                   '##uber': 0.57177544,\n",
      "                                   '##vs': 0.03901112,\n",
      "                                   'ability': 0.08431556,\n",
      "                                   'accident': 0.18920514,\n",
      "                                   'accidents': 0.43446666,\n",
      "                                   'actually': 0.07178839,\n",
      "                                   'advantage': 0.16378173,\n",
      "                                   'aerodynamic': 0.39091477,\n",
      "                                   'always': 0.28477117,\n",
      "                                   'anymore': 0.11849168,\n",
      "                                   'aren': 0.23623252,\n",
      "                                   'armoured': 0.1324214,\n",
      "                                   'arrogant': 0.30428767,\n",
      "                                   'atv': 0.57968336,\n",
      "                                   'avid': 0.044244856,\n",
      "                                   'avoid': 0.2993488,\n",
      "                                   'avoidance': 0.68542576,\n",
      "                                   'believe': 0.6561679,\n",
      "                                   'bother': 0.045381058,\n",
      "                                   'boycott': 0.5615716,\n",
      "                                   'cab': 0.043174725,\n",
      "                                   'can': 0.83873564,\n",
      "                                   'car': 1.1883619,\n",
      "                                   'careful': 0.39306903,\n",
      "                                   'carr': 0.21837442,\n",
      "                                   'cars': 0.91177624,\n",
      "                                   'caution': 0.757963,\n",
      "                                   'cautious': 0.08397014,\n",
      "                                   'challenge': 0.25975382,\n",
      "                                   'champion': 0.009115744,\n",
      "                                   'chance': 1.1075976,\n",
      "                                   'chasing': 0.21031046,\n",
      "                                   'compromise': 0.18402503,\n",
      "                                   'confident': 0.20282632,\n",
      "                                   'cooper': 0.35250404,\n",
      "                                   'crap': 0.24263299,\n",
      "                                   'crash': 0.4079779,\n",
      "                                   'criticised': 0.17059726,\n",
      "                                   'danger': 0.59767395,\n",
      "                                   'dangerous': 1.0981019,\n",
      "                                   'dare': 0.4513775,\n",
      "                                   'daring': 0.4174975,\n",
      "                                   'deliberately': 0.4572969,\n",
      "                                   'disappointed': 0.012385244,\n",
      "                                   'discount': 0.073030606,\n",
      "                                   'discourage': 0.08968442,\n",
      "                                   'disqualified': 0.0887285,\n",
      "                                   'doesn': 0.3806122,\n",
      "                                   'don': 0.47823417,\n",
      "                                   'doping': 0.20632428,\n",
      "                                   'doubt': 0.0771593,\n",
      "                                   'drift': 0.2752328,\n",
      "                                   'drive': 0.68575734,\n",
      "                                   'driver': 1.6573212,\n",
      "                                   'drivers': 1.0872132,\n",
      "                                   'driving': 0.0062112627,\n",
      "                                   'durable': 0.13223968,\n",
      "                                   'emissions': 0.03407873,\n",
      "                                   'endorsement': 0.18743095,\n",
      "                                   'enthusiasts': 0.5317679,\n",
      "                                   'escort': 0.009339099,\n",
      "                                   'ethical': 0.11194256,\n",
      "                                   'f1': 0.5582897,\n",
      "                                   'failure': 0.15164667,\n",
      "                                   'fairness': 0.30607995,\n",
      "                                   'favorably': 0.15572266,\n",
      "                                   'favour': 0.060897782,\n",
      "                                   'fear': 0.2922001,\n",
      "                                   'fia': 0.47556165,\n",
      "                                   'flawed': 0.20747928,\n",
      "                                   'fleets': 0.43652156,\n",
      "                                   'gear': 0.2383257,\n",
      "                                   'glad': 0.35983744,\n",
      "                                   'guarantee': 0.36843947,\n",
      "                                   'handicap': 0.06881046,\n",
      "                                   'handling': 0.20965375,\n",
      "                                   'hasn': 0.106238335,\n",
      "                                   'impress': 0.08907327,\n",
      "                                   'incapable': 0.15349239,\n",
      "                                   'incentives': 0.06138615,\n",
      "                                   'inexperienced': 0.2734977,\n",
      "                                   'inherently': 1.0634357,\n",
      "                                   'innovation': 0.018515958,\n",
      "                                   'innovative': 0.1972382,\n",
      "                                   'insist': 0.06289269,\n",
      "                                   'intimidated': 0.0398217,\n",
      "                                   'luxury': 0.44791648,\n",
      "                                   'mclaren': 0.03117813,\n",
      "                                   'mind': 1.564738,\n",
      "                                   'minded': 0.8869541,\n",
      "                                   'minds': 0.4357186,\n",
      "                                   'moral': 0.14173667,\n",
      "                                   'motorcycle': 0.37485436,\n",
      "                                   'motorsport': 0.47966537,\n",
      "                                   'necessarily': 0.45978117,\n",
      "                                   'necessity': 0.27912384,\n",
      "                                   'neutrality': 0.2903075,\n",
      "                                   'nilsson': 0.38773972,\n",
      "                                   'nobody': 0.6572691,\n",
      "                                   'not': 0.18952179,\n",
      "                                   'opinion': 0.12047238,\n",
      "                                   'outsiders': 0.039057437,\n",
      "                                   'parked': 0.036067553,\n",
      "                                   'passenger': 0.118087105,\n",
      "                                   'personally': 0.4492354,\n",
      "                                   'pilot': 0.33739966,\n",
      "                                   'plus': 0.6513864,\n",
      "                                   'possibility': 0.08971373,\n",
      "                                   'potentially': 0.15107031,\n",
      "                                   'powerless': 0.18743213,\n",
      "                                   'promotions': 0.0641252,\n",
      "                                   'protection': 0.14075418,\n",
      "                                   'publicity': 0.118040815,\n",
      "                                   'qualifying': 0.017261978,\n",
      "                                   'racing': 0.5289351,\n",
      "                                   'rarely': 0.3818321,\n",
      "                                   'realistic': 0.40658903,\n",
      "                                   'really': 1.1102074,\n",
      "                                   'reasoning': 0.10067645,\n",
      "                                   'recession': 0.17626055,\n",
      "                                   'reckless': 0.8175782,\n",
      "                                   'regret': 0.23341388,\n",
      "                                   'relegation': 0.043683115,\n",
      "                                   'reliability': 0.5521269,\n",
      "                                   'reliable': 0.40286392,\n",
      "                                   'reluctant': 0.29265878,\n",
      "                                   'ride': 0.17128803,\n",
      "                                   'risk': 2.4415948,\n",
      "                                   'risking': 0.43571135,\n",
      "                                   'risks': 1.8187872,\n",
      "                                   'risky': 1.1802614,\n",
      "                                   'sabotage': 0.40248728,\n",
      "                                   'safe': 0.22743806,\n",
      "                                   'safer': 0.42460117,\n",
      "                                   'safety': 0.2888054,\n",
      "                                   'say': 0.40947196,\n",
      "                                   'scary': 0.11354239,\n",
      "                                   'schumacher': 0.51788145,\n",
      "                                   'serious': 0.09466822,\n",
      "                                   'seriously': 0.47802392,\n",
      "                                   'sharing': 3.981511e-05,\n",
      "                                   'shortage': 0.3219279,\n",
      "                                   'shouldn': 0.55159795,\n",
      "                                   'someday': 0.63700616,\n",
      "                                   'sport': 0.38263157,\n",
      "                                   'steal': 0.2719435,\n",
      "                                   'stunt': 0.22901607,\n",
      "                                   'stunts': 0.5867188,\n",
      "                                   'stupid': 0.29644758,\n",
      "                                   'super': 2.7027473,\n",
      "                                   'sure': 0.24868499,\n",
      "                                   'surprise': 0.45467424,\n",
      "                                   'temptation': 0.17432824,\n",
      "                                   'theft': 0.52178264,\n",
      "                                   'they': 0.1857136,\n",
      "                                   'think': 0.35620704,\n",
      "                                   'trust': 0.12397479,\n",
      "                                   'uber': 0.26614097,\n",
      "                                   'undercover': 0.044890057,\n",
      "                                   'unharmed': 0.048488986,\n",
      "                                   'vans': 0.110781714,\n",
      "                                   'vehicle': 0.28555608,\n",
      "                                   'vin': 0.092971615,\n",
      "                                   'vr': 0.064117044,\n",
      "                                   'wanna': 0.2892265,\n",
      "                                   'want': 0.18366796,\n",
      "                                   'warn': 0.18653867,\n",
      "                                   'wary': 0.47276825,\n",
      "                                   'willing': 0.044049468,\n",
      "                                   'worry': 0.3648353,\n",
      "                                   'worthy': 0.5676607,\n",
      "                                   'wouldn': 0.8173012}},\n",
      " '_version': 1,\n",
      " 'found': True}\n"
     ]
    }
   ],
   "source": [
    "item_a = client.get(index=\"document_v4\", id=\"1236\")\n",
    "pprint(item_a)"
   ]
  },
  {
   "cell_type": "code",
   "execution_count": 25,
   "id": "8dae938e",
   "metadata": {},
   "outputs": [
    {
     "data": {
      "text/plain": [
       "'Some may say that supercar drivers dont really mind risk'"
      ]
     },
     "execution_count": 25,
     "metadata": {},
     "output_type": "execute_result"
    }
   ],
   "source": [
    "item_a['_source']['content']"
   ]
  },
  {
   "cell_type": "markdown",
   "id": "f1f608f7",
   "metadata": {},
   "source": [
    "### testing filter regex"
   ]
  },
  {
   "cell_type": "code",
   "execution_count": 36,
   "id": "af97de1b",
   "metadata": {},
   "outputs": [],
   "source": [
    "import re\n",
    "import json"
   ]
  },
  {
   "cell_type": "code",
   "execution_count": null,
   "id": "24fcd7ec",
   "metadata": {},
   "outputs": [],
   "source": [
    "def extract_filters(query):\n",
    "    filters= []\n",
    "    category_regex = r'category:([^\\s]+)\\s*'\n",
    "    matches = re.search(category_regex, query)\n",
    "    if matches:\n",
    "        filters.append({\n",
    "            'term': {\n",
    "                'category.keyword': {\n",
    "                    'value': matches.group(1)\n",
    "                }\n",
    "            }\n",
    "        })\n",
    "\n",
    "        #remove the category filter from the query\n",
    "        query = re.sub(category_regex, '', query).strip()\n",
    "\n",
    "    #year filter\n",
    "    year_regex = r'year:([^\\s]+)\\s*'\n",
    "    matches = re.search(year_regex, query)\n",
    "    if matches:\n",
    "        filters.append({\n",
    "            'range': {\n",
    "                'updated_at': {\n",
    "                    'gte': f'{matches.group(1)}||/y',\n",
    "                    'lte': f'{matches.group(1)}||/y',\n",
    "                }\n",
    "            },\n",
    "        })\n",
    "        #remove the year filter from the query\n",
    "        query = re.sub(year_regex, '', query).strip()\n",
    "\n",
    "    return {'filter': filters}, query\n",
    "\n",
    "def handle_search():\n",
    "    filters, parsed_query = extract_filters(query)\n",
    "    if parsed_query:\n",
    "        search_query = {\n",
    "            'must': {\n",
    "                'multi_match': {\n",
    "                    'query': parsed_query,\n",
    "                    'fields': ['name', 'summary', 'content']\n",
    "                }\n",
    "            }\n",
    "        }\n",
    "    else:\n",
    "        search_query = {\n",
    "            'must': {\n",
    "                'match_all': {}\n",
    "            }\n",
    "        }\n",
    "    results = client.search(\n",
    "        index=\"my_documents\",\n",
    "        body={\n",
    "            'query': {\n",
    "                'bool': {\n",
    "                    **search_query,\n",
    "                    **filters\n",
    "                }\n",
    "            },\n",
    "            'aggs': {\n",
    "                'category-agg': {\n",
    "                    'terms': {\n",
    "                        'field': 'category.keyword',\n",
    "                    }\n",
    "                },\n",
    "                'year-agg': {\n",
    "                    'date_histogram': {\n",
    "                        'field': 'updated_at',\n",
    "                        'calendar_interval': 'year',\n",
    "                        'format': 'yyyy',\n",
    "                    },\n",
    "                },\n",
    "            },\n",
    "            'size': 5,\n",
    "        }\n",
    "    )\n",
    "    return results"
   ]
  },
  {
   "cell_type": "code",
   "execution_count": 57,
   "id": "88ed5ff5",
   "metadata": {},
   "outputs": [
    {
     "data": {
      "text/plain": [
       "{'took': 5,\n",
       " 'timed_out': False,\n",
       " '_shards': {'total': 1, 'successful': 1, 'skipped': 0, 'failed': 0},\n",
       " 'hits': {'total': {'value': 7, 'relation': 'eq'},\n",
       "  'max_score': 1.0137551,\n",
       "  'hits': [{'_index': 'my_documents',\n",
       "    '_id': 'lkp6SJcBpHtcKjIoZdp_',\n",
       "    '_score': 1.0137551,\n",
       "    '_source': {'content': \"Purpose\\n\\nThe purpose of this vacation policy is to outline the guidelines and procedures for requesting and taking time off from work for personal and leisure purposes. This policy aims to promote a healthy work-life balance and encourage employees to take time to rest and recharge.\\nScope\\n\\nThis policy applies to all full-time and part-time employees who have completed their probationary period.\\nVacation Accrual\\n\\nFull-time employees accrue vacation time at a rate of [X hours] per month, equivalent to [Y days] per year. Part-time employees accrue vacation time on a pro-rata basis, calculated according to their scheduled work hours.\\n\\nVacation time will begin to accrue from the first day of employment, but employees are eligible to take vacation time only after completing their probationary period. Unused vacation time will be carried over to the next year, up to a maximum of [Z days]. Any additional unused vacation time will be forfeited.\\nVacation Scheduling\\n\\nEmployees are required to submit vacation requests to their supervisor at least [A weeks] in advance, specifying the start and end dates of their vacation. Supervisors will review and approve vacation requests based on business needs, ensuring adequate coverage during the employee's absence.\\n\\nEmployees are encouraged to plan their vacations around the company's peak and non-peak periods to minimize disruptions. Vacation requests during peak periods may be subject to limitations and require additional advance notice.\\nVacation Pay\\n\\nEmployees will receive their regular pay during their approved vacation time. Vacation pay will be calculated based on the employee's average earnings over the [B weeks] preceding their vacation.\\nUnplanned Absences and Vacation Time\\n\\nIn the event of an unplanned absence due to illness or personal emergencies, employees may use their accrued vacation time, subject to supervisor approval. Employees must inform their supervisor as soon as possible and provide any required documentation upon their return to work.\\nVacation Time and Termination of Employment\\n\\nIf an employee's employment is terminated, they will be paid out for any unused vacation time, calculated based on their current rate of pay.\\nPolicy Review and Updates\\n\\nThis vacation policy will be reviewed periodically and updated as necessary, taking into account changes in labor laws, business needs, and employee feedback.\\nQuestions and Concerns\\n\\nEmployees are encouraged to direct any questions or concerns about this policy to their supervisor or the HR department.\\n\",\n",
       "     'summary': ': This policy outlines the guidelines and procedures for requesting and taking time off from work for personal and leisure purposes. Full-time employees accrue vacation time at a rate of [X hours] per month, equivalent to [Y days] per year. Vacation requests must be submitted to supervisors at least',\n",
       "     'name': 'Company Vacation Policy',\n",
       "     'url': 'https://enterprisesearch.sharepoint.com/:t:/s/MSBuilddemo/ES6rw9bKZxVBobG1WUoJpikBF9Bhx1pw_GvJWbsg-Z_HNA?e=faSHVt',\n",
       "     'created_on': '2018-04-15',\n",
       "     'updated_at': '2018-04-16',\n",
       "     'category': 'sharepoint',\n",
       "     'rolePermissions': ['demo', 'manager']}},\n",
       "   {'_index': 'my_documents',\n",
       "    '_id': 'mUp6SJcBpHtcKjIoZdp_',\n",
       "    '_score': 0.6302971,\n",
       "    '_source': {'content': \"Purpose\\nThe purpose of this Intellectual Property Policy is to establish guidelines and procedures for the ownership, protection, and utilization of intellectual property generated by employees during their employment. This policy aims to encourage creativity and innovation while ensuring that the interests of both the company and its employees are protected.\\n\\nScope\\nThis policy applies to all employees, including full-time, part-time, temporary, and contract employees.\\n\\nDefinitions\\na. Intellectual Property (IP): Refers to creations of the mind, such as inventions, literary and artistic works, designs, symbols, and images, that are protected by copyright, trademark, patent, or other forms of legal protection.\\nb. Company Time: Refers to the time during which an employee is actively engaged in performing their job duties.\\nc. Outside Company Time: Refers to the time during which an employee is not engaged in performing their job duties.\\n\\nOwnership of Intellectual Property\\na. Work Generated on Company Time\\ni. Any intellectual property created, conceived, or developed by an employee during company time or using company resources, equipment, or facilities shall be considered the property of the Company.\\nii. Employees are required to promptly disclose any such intellectual property to their supervisor or the appropriate department head.\\nb. Work Generated Outside Company Time\\ni. Intellectual property created, conceived, or developed by an employee outside of company time and without the use of company resources, equipment, or facilities shall generally remain the property of the employee.\\nii. However, if the intellectual property is directly related to the employee's job responsibilities, or if the employee has used company resources, equipment, or facilities in its creation, it may be considered the property of the Company.\\nProtection and Utilization of Intellectual Property\\na. The Company shall have the right to protect, license, and commercialize any intellectual property owned by the company as it deems appropriate.\\nb. Employees are expected to cooperate with the Company in obtaining any necessary legal protection for intellectual property owned by the company, including by signing any documents or providing any necessary information or assistance.\\nConfidentiality\\nEmployees are expected to maintain the confidentiality of any intellectual property owned by the Company and not disclose it to any third parties without the express written consent of an authorized representative of the company.\\nEmployee Acknowledgment\\nAll employees are required to sign an acknowledgment of this Intellectual Property Policy as a condition of their employment with [Company Name]. By signing the acknowledgment, employees agree to abide by the terms of this policy and understand that any violations may result in disciplinary action, up to and including termination of employment.\\nPolicy Review\\nThis Intellectual Property Policy shall be reviewed periodically and may be amended as necessary to ensure its continued effectiveness and compliance with applicable laws and regulations. Employees will be notified of any significant changes to this policy.\\n\",\n",
       "     'summary': \"This Intellectual Property Policy outlines guidelines and procedures for the ownership, protection, and utilization of intellectual property generated by employees during their employment. It establishes the company's ownership of work generated on company time, while recognizing employee ownership of work generated outside of company time without the use of company resources. The policy\",\n",
       "     'name': 'Intellectual Property Policy',\n",
       "     'url': 'https://enterprisesearch.sharepoint.com/:t:/s/MSBuilddemo/EWz3cYEVdzBNsiHsYbKhms4BVYGhravyrUw3T3lzxL4pTg?e=mPIgbO',\n",
       "     'created_on': '2021-06-15',\n",
       "     'updated_at': '2021-06-15',\n",
       "     'category': 'sharepoint',\n",
       "     'rolePermissions': ['demo', 'manager']}},\n",
       "   {'_index': 'my_documents',\n",
       "    '_id': 'mkp6SJcBpHtcKjIoZdp_',\n",
       "    '_score': 0.59085476,\n",
       "    '_source': {'content': \"Code of Conduct\\nPurpose\\n\\nThe purpose of this code of conduct is to establish guidelines for professional and ethical behavior in the workplace. It outlines the principles and values that all employees are expected to uphold in their interactions with colleagues, customers, partners, and other stakeholders.\\nScope\\n\\nThis code of conduct applies to all employees, contractors, and volunteers within the organization, regardless of their role or seniority.\\nCore Values\\n\\nEmployees are expected to adhere to the following core values:\\n\\na. Integrity: Act honestly, ethically, and in the best interests of the organization at all times.\\nb. Respect: Treat all individuals with dignity, courtesy, and fairness, regardless of their background, beliefs, or position.\\nc. Accountability: Take responsibility for one's actions and decisions, and be willing to learn from mistakes.\\nd. Collaboration: Work cooperatively with colleagues and partners to achieve shared goals and promote a positive work environment.\\ne. Excellence: Strive for the highest standards of performance and continuously seek opportunities for improvement.\\nCompliance with Laws and Regulations\\n\\nEmployees must comply with all applicable laws, regulations, and organizational policies in the course of their work. This includes, but is not limited to, employment laws, data protection regulations, and industry-specific guidelines.\\nConflicts of Interest\\n\\nEmployees should avoid situations where their personal interests may conflict with or influence their professional judgment. If a potential conflict of interest arises, employees must disclose it to their supervisor or the appropriate authority within the organization.\\nConfidentiality and Information Security\\n\\nEmployees are responsible for safeguarding the organization's confidential information, as well as any sensitive information entrusted to them by clients, partners, or other third parties. This includes adhering to data protection policies and using secure communication channels.\\nHarassment and Discrimination\\n\\nThe organization is committed to providing a workplace free from harassment, discrimination, and bullying. Employees are expected to treat others with respect and report any incidents of inappropriate behavior to their supervisor or the human resources department.\\nHealth and Safety\\n\\nEmployees must follow all health and safety guidelines and procedures to maintain a safe and healthy work environment. This includes reporting any hazards or unsafe conditions to the appropriate personnel.\\nUse of Company Resources\\n\\nEmployees are expected to use company resources, including time, equipment, and funds, responsibly and for their intended purposes. Misuse or theft of company resources is strictly prohibited.\\nReporting Violations\\n\\nEmployees have a responsibility to report any suspected violations of this code of conduct, as well as any illegal or unethical behavior, to their supervisor or the appropriate authority within the organization. The organization will protect the confidentiality of employees who report violations and will not tolerate retaliation against those who raise concerns.\\nConsequences of Non-Compliance\\n\\nFailure to adhere to this code of conduct may result in disciplinary action, up to and including termination of employment. The organization reserves the right to take legal action against individuals who engage in illegal or unethical conduct.\\nPolicy Review and Updates\\n\\nThis code of conduct will be reviewed periodically and updated as necessary to ensure it remains relevant and effective in promoting ethical behavior and professional standards within the organization.\\nQuestions and Concerns\\n\\nEmployees are encouraged to seek guidance from their supervisor or the human resources department if they have questions or concerns about this code of conduct or its application to specific situations.\\n\",\n",
       "     'summary': 'This code of conduct outlines the principles and values that all employees are expected to uphold in their interactions with colleagues, customers, partners, and other stakeholders. It sets out core values such as integrity, respect, accountability, collaboration and excellence. Employees must comply with all applicable laws, regulations, and organizational',\n",
       "     'name': 'Code Of Conduct',\n",
       "     'url': 'https://enterprisesearch.sharepoint.com/:t:/s/MSBuilddemo/ER3xmeKaZ_pAqPeJWyyNR0QBg6QmoWIGPhwfEyCABWHrPA?e=cvzrgV',\n",
       "     'created_on': '2018-01-12',\n",
       "     'updated_at': '2018-01-12',\n",
       "     'category': 'sharepoint',\n",
       "     'rolePermissions': ['demo', 'manager']}},\n",
       "   {'_index': 'my_documents',\n",
       "    '_id': 'm0p6SJcBpHtcKjIoZdp_',\n",
       "    '_score': 0.5829003,\n",
       "    '_source': {'content': \"Content:\\nThe purpose of this office pet policy is to outline the guidelines and procedures for bringing pets into the workplace. This policy aims to create a positive and inclusive work environment while ensuring the comfort, safety, and well-being of all employees, visitors, and pets.\\nScope\\n\\nThis policy applies to all employees who wish to bring their pets to the office. Pets covered under this policy include dogs, cats, and other small, non-exotic animals, subject to approval by the HR department.\\nPet Approval Process\\n\\nEmployees must obtain prior approval from their supervisor and the HR department before bringing their pets to the office. The approval process includes:\\n\\na. Submitting a written request, including a description of the pet, its breed, age, and temperament.\\nb. Providing proof of up-to-date vaccinations and any required licenses or permits.\\nc. Obtaining written consent from all employees who share the workspace with the pet owner.\\n\\nThe HR department reserves the right to deny or revoke pet approval based on the specific circumstances or concerns raised by other employees.\\nPet Behavior and Supervision\\n\\nEmployees are responsible for the behavior and well-being of their pets while in the office. Pets must be:\\n\\na. Well-behaved, non-aggressive, and not disruptive to the work environment.\\nb. House-trained and able to eliminate waste in designated areas outside the office.\\nc. Kept on a leash or in a secure enclosure when not in the employee's immediate work area.\\n\\nEmployees must closely supervise their pets and promptly address any issues or concerns raised by other staff members.\\nAllergies and Phobias\\n\\nEmployees with allergies or phobias related to pets must inform the HR department, which will work with the affected employees and pet owners to find a suitable solution. This may include adjusting workspaces, limiting the number or types of pets allowed, or implementing additional safety measures.\\nCleanliness and Hygiene\\n\\nEmployees are responsible for maintaining a clean and hygienic work environment. This includes:\\n\\na. Cleaning up after their pets, both indoors and outdoors.\\nb. Regularly grooming their pets to minimize shedding and odors.\\nc. Ensuring their pets are free of pests, such as fleas and ticks.\\nLiability\\n\\nPet owners are liable for any damage or injury caused by their pets. Employees are encouraged to obtain pet liability insurance to cover potential incidents.\\nRestricted Areas\\n\\nPets are not allowed in certain areas of the office, including meeting rooms, restrooms, kitchen and dining areas, and any other designated spaces. Signage will be posted to indicate these restricted areas.\\nPolicy Review and Updates\\n\\nThis office pet policy will be reviewed periodically and updated as necessary, taking into account employee feedback, changes in legislation, and best practices for maintaining a safe and inclusive work environment.\\nQuestions and Concerns\\n\\nEmployees are encouraged to direct any questions or concerns about this policy to their supervisor or the HR department.\\n\",\n",
       "     'summary': 'This policy outlines the guidelines and procedures for bringing pets into the workplace. It covers approval process, pet behavior and supervision, allergies and phobias, cleanliness and hygiene, liability, restricted areas, and policy review. Employees must obtain prior approval from their supervisor and the HR department before bringing their',\n",
       "     'name': 'Office Pet Policy',\n",
       "     'url': 'https://enterprisesearch.sharepoint.com/:t:/s/MSBuilddemo/ETf-69wBeaZJpAn3CY7ExRABQWvav-p24VOnB6C0A4l2pQ?e=X72WuK',\n",
       "     'created_on': '2018-01-12',\n",
       "     'updated_at': '2018-01-12',\n",
       "     'category': 'sharepoint',\n",
       "     'rolePermissions': ['demo', 'manager']}},\n",
       "   {'_index': 'my_documents',\n",
       "    '_id': 'mEp6SJcBpHtcKjIoZdp_',\n",
       "    '_score': 0.45195588,\n",
       "    '_source': {'content': \"Title: Working with the Sales Team as an Engineer in a Tech Company\\n\\nIntroduction:\\nAs an engineer in a tech company, collaboration with the sales team is essential to ensure the success of the company's products and services. This guidance document aims to provide an overview of how engineers can effectively work with the sales team, fostering a positive and productive working environment.\\nUnderstanding the Sales Team's Role:\\nThe sales team is responsible for promoting and selling the company's products and services to potential clients. Their role involves establishing relationships with customers, understanding their needs, and ensuring that the offered solutions align with their requirements.\\n\\nAs an engineer, it is important to understand the sales team's goals and objectives, as this will help you to provide them with the necessary information, tools, and support to successfully sell your company's products and services.\\nCommunication:\\nEffective communication is key to successfully working with the sales team. Make sure to maintain open lines of communication, and be responsive to their questions and concerns. This includes:\\n\\na. Attending sales meetings and conference calls when required.\\nb. Providing regular product updates and training sessions to the sales team.\\nc. Being available to answer technical questions and clarifications.\\nCollaboration:\\nCollaborate with the sales team in developing and refining sales materials, such as product presentations, demos, and technical documents. This will ensure that the sales team has accurate and up-to-date information to present to clients.\\n\\nAdditionally, work closely with the sales team on customer projects or product customizations, providing technical guidance, and ensuring that the solutions meet the customer's requirements.\\nCustomer Engagement:\\nAt times, engineers may be asked to join sales meetings or calls with potential clients to provide technical expertise. In these situations, it is important to:\\n\\na. Be prepared and understand the customer's needs and pain points.\\nb. Clearly explain the technical aspects of the product or solution in a simple language that the customer can understand.\\nc. Address any concerns or questions the customer may have.\\nContinuous Improvement:\\nActively seek feedback from the sales team regarding product performance, customer experiences, and market trends. Use this feedback to identify areas of improvement and collaborate with other engineers to enhance the product or service offerings.\\nMutual Respect and Support:\\nIt is essential to treat your colleagues in the sales team with respect and professionalism. Recognize and appreciate their efforts in promoting and selling the company's products and services. In turn, the sales team should also respect and appreciate the technical expertise and knowledge of the engineering team.\\n\\nBy working together, both the engineering and sales teams can contribute to the overall success of the company.\\n\\nConclusion:\\nCollaboration between engineers and the sales team is crucial for a tech company's success. By understanding each other's roles, maintaining effective communication, collaborating on projects, and supporting one another, both teams can work together to achieve the company's goals and ensure customer satisfaction.\\n\",\n",
       "     'summary': \": This guide provides an overview of how engineers can effectively collaborate with the sales team to ensure the success of a tech company. It includes understanding the sales team's role, communicating and collaborating on projects, engaging customers, and providing mutual respect and support.\",\n",
       "     'name': 'Sales Engineering Collaboration',\n",
       "     'url': 'https://enterprisesearch.sharepoint.com/:t:/s/MSBuilddemo/EW21-KJnfHBFoRiF49_uJMcBfHyPKimuPOFsCcJypQWaBQ?e=mGdIqe',\n",
       "     'created_on': '2019-04-15',\n",
       "     'updated_at': '2019-04-15',\n",
       "     'category': 'sharepoint',\n",
       "     'rolePermissions': ['demo', 'manager']}}]},\n",
       " 'aggregations': {'category-agg': {'doc_count_error_upper_bound': 0,\n",
       "   'sum_other_doc_count': 0,\n",
       "   'buckets': [{'key': 'sharepoint', 'doc_count': 7}]},\n",
       "  'year-agg': {'buckets': [{'key_as_string': '2018',\n",
       "     'key': 1514764800000,\n",
       "     'doc_count': 5},\n",
       "    {'key_as_string': '2019', 'key': 1546300800000, 'doc_count': 1},\n",
       "    {'key_as_string': '2020', 'key': 1577836800000, 'doc_count': 0},\n",
       "    {'key_as_string': '2021', 'key': 1609459200000, 'doc_count': 1}]}}}"
      ]
     },
     "execution_count": 57,
     "metadata": {},
     "output_type": "execute_result"
    }
   ],
   "source": [
    "query = 'work from home category:sharepoint'\n",
    "results = handle_search()\n",
    "results"
   ]
  },
  {
   "cell_type": "code",
   "execution_count": 49,
   "id": "a76b6609",
   "metadata": {},
   "outputs": [
    {
     "data": {
      "text/plain": [
       "{'took': 5,\n",
       " 'timed_out': False,\n",
       " '_shards': {'total': 1, 'successful': 1, 'skipped': 0, 'failed': 0},\n",
       " 'hits': {'total': {'value': 1, 'relation': 'eq'},\n",
       "  'max_score': 1.0790452,\n",
       "  'hits': [{'_index': 'my_documents',\n",
       "    '_id': 'lUp6SJcBpHtcKjIoZdp_',\n",
       "    '_score': 1.0790452,\n",
       "    '_source': {'summary': \"This sales strategy document outlines objectives, focus areas, and action plans for our tech company's sales operations in fiscal year 2024. Our primary goal is to increase revenue, expand market share, and strengthen customer relationships in our target markets. Focus areas include targeting new markets, segmenting customers, enhancing\",\n",
       "     'name': 'Fy2024 Company Sales Strategy',\n",
       "     'content': \"Executive Summary:\\nThis sales strategy document outlines the key objectives, focus areas, and action plans for our tech company's sales operations in fiscal year 2024. Our primary goal is to increase revenue, expand market share, and strengthen customer relationships in our target markets.\\n\\nI. Objectives for Fiscal Year 2024\\n\\nIncrease revenue by 20% compared to fiscal year 2023.\\nExpand market share in key segments by 15%.\\nRetain 95% of existing customers and increase customer satisfaction ratings.\\nLaunch at least two new products or services in high-demand market segments.\\n\\nII. Focus Areas\\nA. Target Markets:\\nContinue to serve existing markets with a focus on high-growth industries.\\nIdentify and penetrate new markets with high potential for our products and services.\\n\\nB. Customer Segmentation:\\nStrengthen relationships with key accounts and strategic partners.\\nPursue new customers in underserved market segments.\\nDevelop tailored offerings for different customer segments based on their needs and preferences.\\n\\nC. Product/Service Portfolio:\\nOptimize the existing product/service portfolio by focusing on high-demand solutions.\\nDevelop and launch innovative products/services in emerging technology areas.\\nEnhance post-sales support and customer service to improve customer satisfaction.\\n\\nIII. Action Plans\\nA. Sales Team Development:\\nExpand the sales team to cover new markets and industries.\\nProvide ongoing training to sales staff on product knowledge, sales techniques, and industry trends.\\nImplement a performance-based incentive system to reward top performers.\\n\\nB. Marketing and Promotion:\\nDevelop targeted marketing campaigns for different customer segments and industries.\\nLeverage digital marketing channels to increase brand visibility and lead generation.\\nParticipate in industry events and trade shows to showcase our products and services.\\n\\nC. Partner Ecosystem:\\nStrengthen existing partnerships and establish new strategic alliances to expand market reach.\\nCollaborate with partners on joint marketing and sales initiatives.\\nProvide partner training and support to ensure they effectively represent our products and services.\\n\\nD. Customer Success:\\nImplement a proactive customer success program to improve customer retention and satisfaction.\\nDevelop a dedicated customer support team to address customer inquiries and concerns promptly.\\nCollect and analyze customer feedback to identify areas for improvement in our products, services, and processes.\\n\\nIV. Monitoring and Evaluation\\nEstablish key performance indicators (KPIs) to track progress toward our objectives.\\nConduct regular sales team meetings to review performance, share best practices, and address challenges.\\nConduct quarterly reviews of our sales strategy to ensure alignment with market trends and adjust as needed.\\n\\nBy following this sales strategy for fiscal year 2024, our tech company aims to achieve significant growth and success in our target markets, while also providing exceptional value and service to our customers.\\n\"}}]},\n",
       " 'aggregations': {'category-agg': {'doc_count_error_upper_bound': 0,\n",
       "   'sum_other_doc_count': 0,\n",
       "   'buckets': [{'key': 'teams', 'doc_count': 1}]},\n",
       "  'year-agg': {'buckets': [{'key_as_string': '2023',\n",
       "     'key': 1672531200000,\n",
       "     'doc_count': 1}]}}}"
      ]
     },
     "execution_count": 49,
     "metadata": {},
     "output_type": "execute_result"
    }
   ],
   "source": [
    "results"
   ]
  },
  {
   "cell_type": "code",
   "execution_count": 35,
   "id": "7feb7af6",
   "metadata": {},
   "outputs": [
    {
     "name": "stdout",
     "output_type": "stream",
     "text": [
      "query: Summary of the latest\n",
      "({'filter': [{'term': {'category.keyword': {'value': 'news'}}}]}, 'Summary of the latest')\n"
     ]
    }
   ],
   "source": [
    "print(extract_filters(\"category:news Summary of the latest\"))"
   ]
  },
  {
   "cell_type": "code",
   "execution_count": null,
   "id": "f0314365",
   "metadata": {},
   "outputs": [],
   "source": []
  }
 ],
 "metadata": {
  "kernelspec": {
   "display_name": "opensearch_env",
   "language": "python",
   "name": "python3"
  },
  "language_info": {
   "codemirror_mode": {
    "name": "ipython",
    "version": 3
   },
   "file_extension": ".py",
   "mimetype": "text/x-python",
   "name": "python",
   "nbconvert_exporter": "python",
   "pygments_lexer": "ipython3",
   "version": "3.12.11"
  }
 },
 "nbformat": 4,
 "nbformat_minor": 5
}
